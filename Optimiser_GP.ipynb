{
 "cells": [
  {
   "cell_type": "code",
   "execution_count": 1,
   "id": "e297fc09",
   "metadata": {},
   "outputs": [
    {
     "name": "stderr",
     "output_type": "stream",
     "text": [
      "C:\\Users\\Yuzhang Ge\\anaconda3\\envs\\newenv\\lib\\site-packages\\scipy\\__init__.py:146: UserWarning: A NumPy version >=1.16.5 and <1.23.0 is required for this version of SciPy (detected version 1.23.3\n",
      "  warnings.warn(f\"A NumPy version >={np_minversion} and <{np_maxversion}\"\n"
     ]
    }
   ],
   "source": [
    "from sklearn.metrics.pairwise import euclidean_distances \n",
    "import tensorflow as tf\n",
    "import numpy as np\n",
    "import math\n",
    "dtype=tf.float64\n",
    "pi=tf.Variable(3.14,dtype=tf.float64)\n",
    "def time_kernel(X1,X2,l1_1,l1_2,l1_3,l1_4,l1_5,l2,sig1,sig2):\n",
    "#     x1=np.delete(X1,time_axis-1,1)\n",
    "#     x2=np.delete(X2,time_axis-1,1)\n",
    "    col=X1.shape[1]\n",
    "    l1=tf.convert_to_tensor([l1_1,l1_2,l1_3,l1_4,l1_5],dtype=tf.float64)\n",
    "    x1=X1[:,:col-1]\n",
    "    x2=X2[:,:col-1]\n",
    "    x1=tf.expand_dims(x1/l1,1)\n",
    "    x2=tf.expand_dims(x2/l1,0)\n",
    "    sub1=tf.square(x1-x2)\n",
    "    r1=tf.reduce_sum(sub1,axis=-1)\n",
    "    k1=sig1  * tf.exp(-0.5 * r1)\n",
    "    \n",
    "    t1=X1[:,col-1:]\n",
    "    t2=X2[:,col-1:]\n",
    "    t1=tf.expand_dims(t1/l2,1)\n",
    "    t2=tf.expand_dims(t2/l2,0)\n",
    "    sub2=tf.abs(t1-t2)\n",
    "    r2=tf.reduce_sum(sub2,axis=-1)\n",
    "    a=np.sqrt(3)\n",
    "    k2=sig2*(1.0+a*r2)*tf.exp(-a*r2)\n",
    "    \n",
    "    return k1*k2\n",
    "\n",
    "def time_kernel1(X1,X2,l1_1,l1_2,l1_3,l1_4,l1_5,l2,sig1,sig2):\n",
    "#     x1=np.delete(X1,time_axis-1,1)\n",
    "#     x2=np.delete(X2,time_axis-1,1)\n",
    "    col=X1.shape[1]\n",
    "    l1=tf.convert_to_tensor([l1_1,l1_2,l1_3,l1_4,l1_5],dtype=tf.float64)\n",
    "    x1=X1[0::3,:col-1]\n",
    "    x2=X2[0::3,:col-1]\n",
    "    x1=tf.expand_dims(x1/l1,1)\n",
    "    x2=tf.expand_dims(x2/l1,0)\n",
    "    sub1=tf.square(x1-x2)\n",
    "    r1=tf.reduce_sum(sub1,axis=-1)\n",
    "    k1=sig1  * tf.exp(-0.5 * r1)\n",
    "    \n",
    "    t1=X1[:3,col-1:]\n",
    "    t2=X2[:3,col-1:]\n",
    "    t1=tf.expand_dims(t1/l2,1)\n",
    "    t2=tf.expand_dims(t2/l2,0)\n",
    "    sub2=tf.abs(t1-t2)\n",
    "    r2=tf.reduce_sum(sub2,axis=-1)\n",
    "    a=np.sqrt(3)\n",
    "    k2=sig2*(1.0+a*r2)*tf.exp(-a*r2)\n",
    "    \n",
    "    return k1,k2"
   ]
  },
  {
   "cell_type": "code",
   "execution_count": 2,
   "id": "c9b98737",
   "metadata": {},
   "outputs": [],
   "source": [
    "class time_GPmodel():\n",
    "    def __init__(self,data,kernel1,kernel2,l1,l2,sig1,sig2,likvar=0):\n",
    "        self.X = data[0]\n",
    "        self.Y = data[1]\n",
    "        self.sigma2 = likvar\n",
    "        self.kern = lambda X1,X2: kernel1(X1,X2,l1,l2,sig1,sig2)\n",
    "        self.kern2=lambda X1,X2: kernel2(X1,X2,l1,l2,sig1,sig2)\n",
    "    def coeff_creation(self):\n",
    "        K1,K2=self.kern2(self.X,self.X)\n",
    "        K1=K1+self.sigma2*tf.eye(290,290,dtype=tf.float64)\n",
    "        L1=tf.linalg.cholesky(K1)\n",
    "        trm=tf.linalg.triangular_solve(L1,tf.eye(290,290,dtype=tf.float64),lower=True)\n",
    "        K1_inv=tf.linalg.triangular_solve(tf.transpose(L1),trm,lower=False)\n",
    "\n",
    "        L2=tf.linalg.cholesky(K2)\n",
    "        trm2=tf.linalg.triangular_solve(L2,tf.eye(3,3,dtype=tf.float64),lower=True)\n",
    "        K2_inv=tf.linalg.triangular_solve(tf.transpose(L2),trm2,lower=False)\n",
    "\n",
    "        op1=tf.linalg.LinearOperatorFullMatrix(K1_inv)\n",
    "        op2=tf.linalg.LinearOperatorFullMatrix(K2_inv)\n",
    "\n",
    "        self.K_inv=tf.linalg.LinearOperatorKronecker([op1,op2]).to_dense()\n",
    "#         print(self.K_inv)\n",
    "    def predict(self,Xtst,with_var=False):\n",
    "        Kstar=self.kern(Xtst,self.X)\n",
    "#         print(Kstar.shape)\n",
    "        Kstarstar=self.kern(Xtst,Xtst)\n",
    "        mu=tf.matmul(tf.matmul(Kstar,self.K_inv),self.Y)\n",
    "        if with_var:\n",
    "            var=tf.linalg.diag_part(Kstarstar)\n",
    "            var-=tf.matmul(tf.matmul(Kstar,self.K_inv),tf.transpose(Kstar))\n",
    "            var+=self.sigma2\n",
    "            return mu,var\n",
    "        else:\n",
    "            return mu"
   ]
  },
  {
   "cell_type": "code",
   "execution_count": 3,
   "id": "6508ba2a",
   "metadata": {},
   "outputs": [],
   "source": [
    "import pickle \n",
    "file1 = open('X_time_2', 'rb')\n",
    "file2 = open('Y_time_2', 'rb')\n",
    "train_X=pickle.load(file1)\n",
    "file1.close()\n",
    "train_Y=pickle.load(file2)\n",
    "file2.close()"
   ]
  },
  {
   "cell_type": "code",
   "execution_count": 56,
   "id": "3289fbec",
   "metadata": {
    "scrolled": false
   },
   "outputs": [],
   "source": [
    "import math as m\n",
    "X=tf.convert_to_tensor(train_X[:870,:])\n",
    "Y=tf.convert_to_tensor(train_Y[:870])\n",
    "l1_1=tf.Variable(10.,dtype=tf.float64)\n",
    "l1_2=tf.Variable(3.,dtype=tf.float64)\n",
    "l1_3=tf.Variable(3.,dtype=tf.float64)\n",
    "l1_4=tf.Variable(4.,dtype=tf.float64)\n",
    "l1_5=tf.Variable(5.,dtype=tf.float64)\n",
    "l1=tf.convert_to_tensor([l1_1,l1_2,l1_3,l1_4,l1_5],dtype=tf.float64)\n",
    "l2=tf.Variable(2.,dtype=tf.float64)\n",
    "sig1=tf.Variable(2.,dtype=tf.float64)\n",
    "sig2=tf.Variable(2.,dtype=tf.float64)\n",
    "var=tf.Variable(0.02,dtype=tf.float64)"
   ]
  },
  {
   "cell_type": "code",
   "execution_count": 5,
   "id": "d6f66ead",
   "metadata": {},
   "outputs": [],
   "source": [
    "Ky=time_kernel(X,X,l1_1,l1_2,l1_3,l1_4,l1_5,l2,sig1,sig2)\n",
    "Ky=Ky+0.0*tf.eye(870,870,dtype=tf.float64)\n",
    "K1,K2=time_kernel1(X,X,l1_1,l1_2,l1_3,l1_4,l1_5,l2,sig1,sig2)\n",
    "K1=K1+0.0*tf.eye(290,290,dtype=tf.float64)\n",
    "K2=K2+0.0*tf.eye(3,3,dtype=tf.float64)\n",
    "L1=tf.linalg.cholesky(K1)\n",
    "trm=tf.linalg.triangular_solve(L1,tf.eye(290,290,dtype=tf.float64),lower=True)\n",
    "K1_inv=tf.linalg.triangular_solve(tf.transpose(L1),trm,lower=False)\n",
    "\n",
    "L2=tf.linalg.cholesky(K2)\n",
    "trm2=tf.linalg.triangular_solve(L2,tf.eye(3,3,dtype=tf.float64),lower=True)\n",
    "K2_inv=tf.linalg.triangular_solve(tf.transpose(L2),trm2,lower=False)\n",
    "\n",
    "op1=tf.linalg.LinearOperatorFullMatrix(K1_inv)\n",
    "op2=tf.linalg.LinearOperatorFullMatrix(K2_inv)\n",
    "Ky_inv=tf.linalg.LinearOperatorKronecker([op1,op2]).to_dense()\n",
    "z=-0.5*tf.linalg.logdet(Ky)-0.5*tf.matmul(tf.transpose(Y),tf.matmul(Ky_inv,Y))-len(X)*tf.math.log(2*pi)"
   ]
  },
  {
   "cell_type": "code",
   "execution_count": 6,
   "id": "8dcf7b66",
   "metadata": {},
   "outputs": [
    {
     "data": {
      "text/plain": [
       "<tf.Tensor: shape=(1, 1), dtype=float64, numpy=array([[-1.39450878e+08]])>"
      ]
     },
     "execution_count": 6,
     "metadata": {},
     "output_type": "execute_result"
    }
   ],
   "source": [
    "z"
   ]
  },
  {
   "cell_type": "code",
   "execution_count": null,
   "id": "81031157",
   "metadata": {
    "scrolled": false
   },
   "outputs": [],
   "source": [
    "Ky=time_kernel(X,X,l1_1,l1_2,l1_3,l1_4,l1_5,l2,sig1,sig2)\n",
    "#     Ky=Ky+0.01*tf.eye(870,870,dtype=tf.float64)\n",
    "L = tf.linalg.cholesky(Ky)\n",
    "S1 = tf.linalg.triangular_solve(L, Y, lower=True)\n",
    "num_dims = tf.cast(tf.shape(Y)[0], L.dtype)\n",
    "# p = -0.5 * tf.reduce_sum(tf.square(S1), 0)\n",
    "# p -= 0.5*num_dims*tf.math.log(2*np.float64(np.pi))\n",
    "# p -= tf.reduce_sum(tf.math.log(tf.linalg.diag_part(L)))\n",
    "\n",
    "S2 = tf.linalg.triangular_solve(tf.transpose(L), S1, lower=False)\n",
    "    \n",
    "z=-(tf.reduce_sum(tf.math.log(tf.linalg.diag_part(L)))+0.5 * tf.matmul(tf.transpose(Y),S2)+num_dims*tf.math.log(2*pi))"
   ]
  },
  {
   "cell_type": "code",
   "execution_count": 7,
   "id": "ee193a51",
   "metadata": {},
   "outputs": [
    {
     "data": {
      "text/plain": [
       "<tf.Tensor: shape=(1, 1), dtype=float64, numpy=array([[-1.39450878e+08]])>"
      ]
     },
     "execution_count": 7,
     "metadata": {},
     "output_type": "execute_result"
    }
   ],
   "source": [
    "z"
   ]
  },
  {
   "cell_type": "code",
   "execution_count": 55,
   "id": "ca416611",
   "metadata": {},
   "outputs": [],
   "source": [
    "optimizer = tf.optimizers.Adam(learning_rate=0.01)\n",
    "\n",
    "def my_function1(l1_1,l1_2,l1_3,l1_4,l1_5,l2,sig1,sig2,var):\n",
    "    \n",
    "    Ky=time_kernel(X,X,l1_1,l1_2,l1_3,l1_4,l1_5,l2,sig1,sig2)\n",
    "    Ky=Ky+var*tf.eye(870,870,dtype=tf.float64)\n",
    "    L = tf.linalg.cholesky(Ky)\n",
    "    S1 = tf.linalg.triangular_solve(L, Y, lower=True)\n",
    "    num_dims = tf.cast(tf.shape(Y)[0], L.dtype)\n",
    "    p = -0.5 * tf.reduce_sum(tf.square(S1), 0)\n",
    "    p -= 0.5*num_dims*tf.math.log(2*np.float64(np.pi))\n",
    "    p -= tf.reduce_sum(tf.math.log(tf.linalg.diag_part(L)))\n",
    "#    S2 = tf.linalg.triangular_solve(tf.transpose(L), S1, lower=False)\n",
    "    \n",
    "#    z=tf.reduce_sum(tf.math.log(tf.linalg.tensor_diag_part(L)))+0.5 * tf.matmul(tf.transpose(Y),S2)+num_dims*tf.math.log(2*np.float64(np.pi))\n",
    "    return -p"
   ]
  },
  {
   "cell_type": "code",
   "execution_count": 57,
   "id": "caee19b8",
   "metadata": {},
   "outputs": [],
   "source": [
    "def my_function2(l1_1,l1_2,l1_3,l1_4,l1_5,l2,sig1,sig2,var):\n",
    "    \n",
    "    Ky=time_kernel(X,X,l1_1,l1_2,l1_3,l1_4,l1_5,l2,sig1,sig2)\n",
    "    Ky=Ky+0.0*tf.eye(870,870,dtype=tf.float64)\n",
    "    K1,K2=time_kernel1(X,X,l1_1,l1_2,l1_3,l1_4,l1_5,l2,sig1,sig2)\n",
    "    K1=K1+0.0*tf.eye(290,290,dtype=tf.float64)\n",
    "    K2=K2+0.0*tf.eye(3,3,dtype=tf.float64)\n",
    "    L1=tf.linalg.cholesky(K1)\n",
    "    trm=tf.linalg.triangular_solve(L1,tf.eye(290,290,dtype=tf.float64),lower=True)\n",
    "    K1_inv=tf.linalg.triangular_solve(tf.transpose(L1),trm,lower=False)\n",
    "\n",
    "    L2=tf.linalg.cholesky(K2)\n",
    "    trm2=tf.linalg.triangular_solve(L2,tf.eye(3,3,dtype=tf.float64),lower=True)\n",
    "    K2_inv=tf.linalg.triangular_solve(tf.transpose(L2),trm2,lower=False)\n",
    "\n",
    "    op1=tf.linalg.LinearOperatorFullMatrix(K1_inv)\n",
    "    op2=tf.linalg.LinearOperatorFullMatrix(K2_inv)\n",
    "    Ky_inv=tf.linalg.LinearOperatorKronecker([op1,op2]).to_dense()\n",
    "    Ky_inv=Ky_inv+(var**2)*tf.eye(870,870,dtype=tf.float64)\n",
    "\n",
    "    z=-0.5*tf.linalg.logdet(Ky)-0.5*tf.matmul(tf.transpose(Y),tf.matmul(Ky_inv,Y))-len(X)*tf.math.log(2*pi)\n",
    "    return -z"
   ]
  },
  {
   "cell_type": "code",
   "execution_count": 58,
   "id": "bdcd7755",
   "metadata": {
    "scrolled": true
   },
   "outputs": [],
   "source": [
    "for i in range(10000):\n",
    "    optimizer.minimize(lambda:my_function2(l1_1,l1_2,l1_3,l1_4,l1_5,l2,sig1,sig2,var), var_list=[l1_1,l1_2,l1_3,l1_4,l1_5,l2,sig1,sig2,var])"
   ]
  },
  {
   "cell_type": "code",
   "execution_count": 59,
   "id": "73ad554c",
   "metadata": {
    "scrolled": false
   },
   "outputs": [
    {
     "data": {
      "text/plain": [
       "[<tf.Variable 'Variable:0' shape=() dtype=float64, numpy=8.40976967101872>,\n",
       " <tf.Variable 'Variable:0' shape=() dtype=float64, numpy=0.08252057197259115>,\n",
       " <tf.Variable 'Variable:0' shape=() dtype=float64, numpy=1.0856217685726792>,\n",
       " <tf.Variable 'Variable:0' shape=() dtype=float64, numpy=2.4010857004321546>,\n",
       " <tf.Variable 'Variable:0' shape=() dtype=float64, numpy=3.148471610968141>,\n",
       " <tf.Variable 'Variable:0' shape=() dtype=float64, numpy=0.25200866335388844>,\n",
       " <tf.Variable 'Variable:0' shape=() dtype=float64, numpy=3.3355282212023454>,\n",
       " <tf.Variable 'Variable:0' shape=() dtype=float64, numpy=3.3355282212340276>,\n",
       " <tf.Variable 'Variable:0' shape=() dtype=float64, numpy=-2.647439957099227e-11>]"
      ]
     },
     "execution_count": 59,
     "metadata": {},
     "output_type": "execute_result"
    }
   ],
   "source": [
    "[l1_1,l1_2,l1_3,l1_4,l1_5,l2,sig1,sig2,var]"
   ]
  },
  {
   "cell_type": "code",
   "execution_count": 43,
   "id": "dd9ec349",
   "metadata": {},
   "outputs": [],
   "source": [
    "learning_rate = 0.1\n",
    "optimizer = tf.keras.optimizers.SGD(learning_rate)\n",
    "# Define the training loop\n",
    "for i in range(1):\n",
    "    # Use tf.GradientTape to record the gradients of the loss with respect to the variables\n",
    "    with tf.GradientTape() as tape:\n",
    "        loss = my_function2(l1_1,l1_2,l1_3,l1_4,l1_5,l2,sig1,sig2,var)\n",
    "    gradients = tape.gradient(loss, [l1_1,l1_2,l1_3,l1_4,l1_5,l2,sig1,sig2,var])\n",
    "    \n",
    "    # Use the optimizer to update the variables\n",
    "    optimizer.apply_gradients(zip(gradients, [l1_1,l1_2,l1_3,l1_4,l1_5,l2,sig1,sig2,var]))"
   ]
  },
  {
   "cell_type": "code",
   "execution_count": 44,
   "id": "8f104fa7",
   "metadata": {
    "scrolled": false
   },
   "outputs": [
    {
     "data": {
      "text/plain": [
       "[<tf.Variable 'Variable:0' shape=() dtype=float64, numpy=nan>,\n",
       " <tf.Variable 'Variable:0' shape=() dtype=float64, numpy=nan>,\n",
       " <tf.Variable 'Variable:0' shape=() dtype=float64, numpy=nan>,\n",
       " <tf.Variable 'Variable:0' shape=() dtype=float64, numpy=nan>,\n",
       " <tf.Variable 'Variable:0' shape=() dtype=float64, numpy=nan>,\n",
       " <tf.Variable 'Variable:0' shape=() dtype=float64, numpy=nan>,\n",
       " <tf.Variable 'Variable:0' shape=() dtype=float64, numpy=nan>,\n",
       " <tf.Variable 'Variable:0' shape=() dtype=float64, numpy=nan>,\n",
       " <tf.Variable 'Variable:0' shape=() dtype=float64, numpy=-65954294.43826243>]"
      ]
     },
     "execution_count": 44,
     "metadata": {},
     "output_type": "execute_result"
    }
   ],
   "source": [
    "[l1_1,l1_2,l1_3,l1_4,l1_5,l2,sig1,sig2,var]"
   ]
  },
  {
   "cell_type": "code",
   "execution_count": 62,
   "id": "8f6859e7",
   "metadata": {
    "scrolled": false
   },
   "outputs": [
    {
     "data": {
      "text/plain": [
       "<tf.Tensor: shape=(1, 1), dtype=float64, numpy=array([[3221.66110175]])>"
      ]
     },
     "execution_count": 62,
     "metadata": {},
     "output_type": "execute_result"
    }
   ],
   "source": [
    "my_function2(l1_1,l1_2,l1_3,l1_4,l1_5,l2,sig1,sig2,var)"
   ]
  },
  {
   "cell_type": "code",
   "execution_count": 61,
   "id": "a16bcc01",
   "metadata": {},
   "outputs": [
    {
     "data": {
      "text/plain": [
       "<tf.Tensor: shape=(1, 1), dtype=float64, numpy=array([[1850.15982197]])>"
      ]
     },
     "execution_count": 61,
     "metadata": {},
     "output_type": "execute_result"
    }
   ],
   "source": [
    "my_function2(6.33902592,  0.58283949, 13.33258808,  2.06577564,  2.13873601,0.39523340421,6.65476945854,6.65476945854,0.00034323097719074833)"
   ]
  },
  {
   "cell_type": "code",
   "execution_count": 15,
   "id": "8d693f8b",
   "metadata": {
    "scrolled": true
   },
   "outputs": [],
   "source": [
    "\n",
    "# Define the training loop\n",
    "for i in range(100):\n",
    "    # Use tf.GradientTape to record the gradients of the loss with respect to the variables\n",
    "    with tf.GradientTape() as tape:\n",
    "        loss = my_function2(l1_1,l1_2,l1_3,l1_4,l1_5,l2,sig1,sig2)\n",
    "    gradients = tape.gradient(loss, [l1_1,l1_2,l1_3,l1_4,l1_5,l2,sig1,sig2])\n",
    "    \n",
    "    # Use the optimizer to update the variables\n",
    "    optimizer.apply_gradients(zip(gradients, [l1_1,l1_2,l1_3,l1_4,l1_5,l2,sig1,sig2]))"
   ]
  },
  {
   "cell_type": "code",
   "execution_count": 44,
   "id": "ccf19d5e",
   "metadata": {
    "scrolled": true
   },
   "outputs": [
    {
     "data": {
      "text/plain": [
       "<tf.Tensor: shape=(1,), dtype=float64, numpy=array([1519.07889491])>"
      ]
     },
     "execution_count": 44,
     "metadata": {},
     "output_type": "execute_result"
    }
   ],
   "source": [
    "my_function1(l1_1,l1_2,l1_3,l1_4,l1_5,l2,sig1,sig2,var)"
   ]
  },
  {
   "cell_type": "code",
   "execution_count": 45,
   "id": "a5c155c8",
   "metadata": {},
   "outputs": [
    {
     "data": {
      "text/plain": [
       "<tf.Tensor: shape=(1,), dtype=float64, numpy=array([1050.8935768])>"
      ]
     },
     "execution_count": 45,
     "metadata": {},
     "output_type": "execute_result"
    }
   ],
   "source": [
    "my_function1(6.33902592,  0.58283949, 13.33258808,  2.06577564,  2.13873601, 0.395233404,6.654769477,6.654769458,0.00034323097719074833)"
   ]
  },
  {
   "cell_type": "code",
   "execution_count": null,
   "id": "f0d51deb",
   "metadata": {},
   "outputs": [],
   "source": [
    "import tensorflow as tf\n",
    "\n",
    "# Define your self-designed function with multiple variables\n",
    "def my_func(x, y, z):\n",
    "    return tf.sin(x) + tf.square(y) + tf.exp(z)\n",
    "\n",
    "# Initialize your variables\n",
    "x = tf.Variable(1.0)\n",
    "y = tf.Variable(2.0)\n",
    "z = tf.Variable(3.0)\n",
    "\n",
    "# Define the optimizer and the learning rate\n",
    "optimizer = tf.optimizers.Adam(learning_rate=0.1)\n",
    "\n",
    "# Define the training loop\n",
    "for i in range(1000):\n",
    "    # Use tf.GradientTape to record the gradients of the loss with respect to the variables\n",
    "    with tf.GradientTape() as tape:\n",
    "        loss = my_func(x, y, z)\n",
    "    gradients = tape.gradient(loss, [x, y, z])\n",
    "    \n",
    "    # Use the optimizer to update the variables\n",
    "    optimizer.apply_gradients(zip(gradients, [x, y, z]))\n",
    "print(\"Final values: x = {}, y = {}\".format(x.numpy(), y.numpy()))  "
   ]
  },
  {
   "cell_type": "code",
   "execution_count": null,
   "id": "d87be211",
   "metadata": {},
   "outputs": [],
   "source": [
    "my_func(x, y, z)"
   ]
  },
  {
   "cell_type": "code",
   "execution_count": null,
   "id": "613057aa",
   "metadata": {},
   "outputs": [],
   "source": [
    "import tensorflow as tf\n",
    "\n",
    "# Define the function to optimize\n",
    "def my_function(x, y):\n",
    "    return x**2 + y**2\n",
    "\n",
    "# Create a TensorFlow variable for each input\n",
    "x = tf.Variable(2.0)\n",
    "y = tf.Variable(3.0)\n",
    "\n",
    "# Define the Adam optimizer with a learning rate of 0.01\n",
    "adam = tf.keras.optimizers.Adam(learning_rate=0.01)\n",
    "\n",
    "# Compile the function with the Adam optimizer\n",
    "@tf.function\n",
    "def my_function_optimized():\n",
    "    loss = my_function(x, y)\n",
    "    grads = tf.gradients(loss, [x, y])\n",
    "    adam.apply_gradients(zip(grads, [x, y]))\n",
    "    return loss\n",
    "\n",
    "# Optimize the function for 100 iterations\n",
    "for i in range(100):\n",
    "    loss = my_function_optimized()\n",
    "    print(\"Iteration {}: loss = {}\".format(i+1, loss))\n",
    "\n",
    "# Print the final values of x and y\n",
    "print(\"Final values: x = {}, y = {}\".format(x.numpy(), y.numpy()))"
   ]
  }
 ],
 "metadata": {
  "kernelspec": {
   "display_name": "Python 3 (ipykernel)",
   "language": "python",
   "name": "python3"
  },
  "language_info": {
   "codemirror_mode": {
    "name": "ipython",
    "version": 3
   },
   "file_extension": ".py",
   "mimetype": "text/x-python",
   "name": "python",
   "nbconvert_exporter": "python",
   "pygments_lexer": "ipython3",
   "version": "3.9.0"
  }
 },
 "nbformat": 4,
 "nbformat_minor": 5
}
