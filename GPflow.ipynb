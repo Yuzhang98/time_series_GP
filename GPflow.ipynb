{
 "cells": [
  {
   "cell_type": "code",
   "execution_count": 1,
   "id": "be9448b8",
   "metadata": {},
   "outputs": [],
   "source": [
    "import numpy as np\n",
    "import pandas as pd\n",
    "import pickle \n",
    "file1 = open('X_time_2', 'rb')\n",
    "file2 = open('Y_time_2', 'rb')\n",
    "train_X=pickle.load(file1)\n",
    "file1.close()\n",
    "train_Y=pickle.load(file2)\n",
    "file2.close()"
   ]
  },
  {
   "cell_type": "code",
   "execution_count": 2,
   "id": "447a636f",
   "metadata": {},
   "outputs": [],
   "source": [
    "X=train_X[:870,:]\n",
    "Y=train_Y[:870]"
   ]
  },
  {
   "cell_type": "code",
   "execution_count": 3,
   "id": "ea7adca7",
   "metadata": {},
   "outputs": [
    {
     "name": "stderr",
     "output_type": "stream",
     "text": [
      "C:\\Users\\Yuzhang Ge\\anaconda3\\envs\\newenv\\lib\\site-packages\\scipy\\__init__.py:146: UserWarning: A NumPy version >=1.16.5 and <1.23.0 is required for this version of SciPy (detected version 1.23.3\n",
      "  warnings.warn(f\"A NumPy version >={np_minversion} and <{np_maxversion}\"\n"
     ]
    }
   ],
   "source": [
    "import gpflow as gpf\n",
    "import tensorflow as tf\n",
    "\n",
    "from gpflow.utilities import print_summary\n",
    "from gpflow.ci_utils import ci_niter\n",
    "\n",
    "\n",
    "MAXITER = ci_niter(1000)\n",
    "k1=gpf.kernels.SquaredExponential(lengthscales=[8.271673268662443,0.2738837077997475,1.0708216025039767,2.3060161671301564,3.1140119758334515],variance=3.4954726426406557,active_dims=[0,1,2,3,4]) \n",
    "k2=gpf.kernels.Matern32(lengthscales= 0.22953761228212077,variance=3.495472625794751,active_dims=[5])\n",
    "k=k1*k2"
   ]
  },
  {
   "cell_type": "code",
   "execution_count": 4,
   "id": "89ba1d2c",
   "metadata": {},
   "outputs": [],
   "source": [
    "data=[X,Y]\n",
    "m = gpf.models.GPR(data, kernel=k, mean_function=None)"
   ]
  },
  {
   "cell_type": "code",
   "execution_count": 5,
   "id": "954b2136",
   "metadata": {},
   "outputs": [],
   "source": [
    "import tensorflow as tf\n",
    "optimizer = tf.optimizers.Adam(0.1)\n",
    "for i in range(1000):\n",
    "    optimizer.minimize(m.training_loss,var_list= m.trainable_variables)\n",
    "    # likelihood = m.log_marginal_likelihood()\n",
    "    # tf.print(f\"GPR with Adam: iteration {i + 1} likelihood {likelihood:.04f}\")"
   ]
  },
  {
   "cell_type": "code",
   "execution_count": 6,
   "id": "5bcbb384",
   "metadata": {
    "scrolled": false
   },
   "outputs": [
    {
     "name": "stdout",
     "output_type": "stream",
     "text": [
      "╒════════════════════════════════════╤═══════════╤══════════════════╤═════════╤═════════════╤═════════╤═════════╤═════════════════════════════════════════╕\n",
      "│ name                               │ class     │ transform        │ prior   │ trainable   │ shape   │ dtype   │ value                                   │\n",
      "╞════════════════════════════════════╪═══════════╪══════════════════╪═════════╪═════════════╪═════════╪═════════╪═════════════════════════════════════════╡\n",
      "│ GPR.kernel.kernels[0].variance     │ Parameter │ Softplus         │         │ True        │ ()      │ float64 │ 6.654769477891924                       │\n",
      "├────────────────────────────────────┼───────────┼──────────────────┼─────────┼─────────────┼─────────┼─────────┼─────────────────────────────────────────┤\n",
      "│ GPR.kernel.kernels[0].lengthscales │ Parameter │ Softplus         │         │ True        │ (5,)    │ float64 │ [6.33902592, 0.58283949, 13.33258808... │\n",
      "├────────────────────────────────────┼───────────┼──────────────────┼─────────┼─────────────┼─────────┼─────────┼─────────────────────────────────────────┤\n",
      "│ GPR.kernel.kernels[1].variance     │ Parameter │ Softplus         │         │ True        │ ()      │ float64 │ 6.654769458541921                       │\n",
      "├────────────────────────────────────┼───────────┼──────────────────┼─────────┼─────────────┼─────────┼─────────┼─────────────────────────────────────────┤\n",
      "│ GPR.kernel.kernels[1].lengthscales │ Parameter │ Softplus         │         │ True        │ ()      │ float64 │ 0.3952334042182158                      │\n",
      "├────────────────────────────────────┼───────────┼──────────────────┼─────────┼─────────────┼─────────┼─────────┼─────────────────────────────────────────┤\n",
      "│ GPR.likelihood.variance            │ Parameter │ Softplus + Shift │         │ True        │ ()      │ float64 │ 0.00034323097719074833                  │\n",
      "╘════════════════════════════════════╧═══════════╧══════════════════╧═════════╧═════════════╧═════════╧═════════╧═════════════════════════════════════════╛\n"
     ]
    }
   ],
   "source": [
    "print_summary(m)"
   ]
  },
  {
   "cell_type": "code",
   "execution_count": 11,
   "id": "d027c0bc",
   "metadata": {
    "scrolled": true
   },
   "outputs": [
    {
     "data": {
      "text/plain": [
       "<bound method InternalDataTrainingLossMixin.training_loss of <gpflow.models.gpr.GPR object at 0x0000017960FAD6D0>>"
      ]
     },
     "execution_count": 11,
     "metadata": {},
     "output_type": "execute_result"
    }
   ],
   "source": [
    "m.training_loss"
   ]
  },
  {
   "cell_type": "code",
   "execution_count": 31,
   "id": "89334b09",
   "metadata": {
    "scrolled": true
   },
   "outputs": [
    {
     "data": {
      "text/plain": [
       "<Parameter: name=softplus, dtype=float64, shape=[5], fn=\"softplus\", numpy=array([ 6.33902592,  0.58283949, 13.33258808,  2.06577564,  2.13873601])>"
      ]
     },
     "execution_count": 31,
     "metadata": {},
     "output_type": "execute_result"
    }
   ],
   "source": [
    "m.kernel.kernels[0].lengthscales"
   ]
  },
  {
   "cell_type": "code",
   "execution_count": 22,
   "id": "40222d29",
   "metadata": {},
   "outputs": [],
   "source": [
    "tx=train_X[870:]\n",
    "ty=train_Y[870:]\n",
    "\n",
    "mean,var=m.predict_y(tx)"
   ]
  },
  {
   "cell_type": "code",
   "execution_count": 23,
   "id": "412d2f06",
   "metadata": {},
   "outputs": [
    {
     "name": "stdout",
     "output_type": "stream",
     "text": [
      "0.8204116656701468\n"
     ]
    }
   ],
   "source": [
    "from sklearn.metrics import r2_score\n",
    "print(r2_score(ty,mean))"
   ]
  }
 ],
 "metadata": {
  "kernelspec": {
   "display_name": "Python 3 (ipykernel)",
   "language": "python",
   "name": "python3"
  },
  "language_info": {
   "codemirror_mode": {
    "name": "ipython",
    "version": 3
   },
   "file_extension": ".py",
   "mimetype": "text/x-python",
   "name": "python",
   "nbconvert_exporter": "python",
   "pygments_lexer": "ipython3",
   "version": "3.9.0"
  }
 },
 "nbformat": 4,
 "nbformat_minor": 5
}
